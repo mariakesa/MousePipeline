{
 "cells": [
  {
   "cell_type": "code",
   "execution_count": 3,
   "metadata": {},
   "outputs": [
    {
     "name": "stdout",
     "output_type": "stream",
     "text": [
      "Fitting estimator with 768 features.\n",
      "Fitting estimator with 692 features.\n",
      "Fitting estimator with 616 features.\n",
      "Fitting estimator with 540 features.\n",
      "Fitting estimator with 464 features.\n",
      "Fitting estimator with 388 features.\n",
      "Fitting estimator with 312 features.\n",
      "Fitting estimator with 236 features.\n",
      "Fitting estimator with 160 features.\n",
      "Fitting estimator with 84 features.\n",
      "Variance explained (R²) on the test set: [ 0.12736911  0.07827791  0.02646622  0.09166109  0.09944328  0.24201261\n",
      "  0.18789632  0.09318166  0.0433004   0.01504383  0.15945828  0.02246418\n",
      "  0.0366711   0.0537841   0.07628722  0.13108825  0.10527699  0.07251642\n",
      "  0.0632916   0.08265126  0.01717856  0.03486667  0.14927524 -0.01585257\n",
      "  0.15325568  0.03466872  0.15363566  0.10971985  0.20724972  0.11174349\n",
      "  0.11519227  0.0461882   0.04399178  0.07299219  0.12425318  0.1632861\n",
      "  0.06879889  0.16727118 -0.02675951  0.16384972  0.02799183  0.13807605\n",
      "  0.1145481   0.17072728  0.0349036   0.24035248  0.0797565   0.07119003\n",
      "  0.23911411  0.15324338  0.02207629  0.04811609  0.18853437 -0.03702743\n",
      "  0.09854251 -0.03500963  0.16969325  0.21477516  0.16075212  0.06008228\n",
      "  0.10393547  0.1693744   0.0508948   0.06865427]\n",
      "Variance explained (R²) on the training set: [0.19406308 0.21195755 0.03366219 0.11495404 0.10184016 0.27457024\n",
      " 0.21112821 0.11414752 0.08298726 0.07529472 0.21217134 0.08143685\n",
      " 0.02953251 0.11336614 0.13309248 0.18703565 0.12719072 0.05995659\n",
      " 0.05806004 0.09403278 0.06016141 0.07603767 0.16411849 0.067541\n",
      " 0.20384685 0.06301694 0.11781332 0.09166889 0.23023451 0.08421555\n",
      " 0.09116172 0.04115007 0.06174868 0.10198035 0.14148489 0.20073171\n",
      " 0.10099596 0.20481867 0.0155615  0.22935686 0.08914645 0.19315398\n",
      " 0.13569478 0.18728995 0.05642727 0.26306399 0.06003756 0.07830085\n",
      " 0.18901517 0.19759813 0.08657566 0.08407638 0.23357165 0.0524676\n",
      " 0.21023918 0.04670085 0.19461631 0.2081757  0.22197233 0.07269753\n",
      " 0.12377434 0.21340106 0.03959576 0.05316914]\n"
     ]
    }
   ],
   "source": [
    "import pickle\n",
    "import numpy as np\n",
    "from sklearn.linear_model import MultiTaskLasso\n",
    "from sklearn.feature_selection import RFE\n",
    "from sklearn.model_selection import train_test_split\n",
    "from sklearn.metrics import r2_score\n",
    "from sklearn.preprocessing import StandardScaler\n",
    "from sklearn.pipeline import Pipeline\n",
    "\n",
    "# Load data\n",
    "dat = pickle.load(open('/home/maria/Documents/HarvardData/processed_sessions_v3/Bo220226/session_responses.p', 'rb'))\n",
    "dino = pickle.load(open('/home/maria/Documents/HarvardData/processed_sessions_v3/Bo220226/dinov2_features.p', 'rb'))\n",
    "dino_mid = pickle.load(open('/home/maria/Documents/HarvardData/processed_sessions_v3/Bo220226_middle_layers/dinov2_features.p', 'rb'))\n",
    "\n",
    "# Convert data to numpy arrays if they aren't already\n",
    "X = np.array(dino)\n",
    "y = np.array(dat)\n",
    "\n",
    "# Train-test split (80%-20%)\n",
    "X_train, X_test, y_train, y_test = train_test_split(\n",
    "    X, y, test_size=0.2, random_state=42\n",
    ")\n",
    "\n",
    "# Feature Scaling\n",
    "scaler = StandardScaler()\n",
    "\n",
    "# Initialize MultiTaskLasso regression\n",
    "mt_lasso = MultiTaskLasso(alpha=1, random_state=42)\n",
    "\n",
    "# Initialize RFE with MultiTaskLasso as the estimator\n",
    "# You can specify the number of features to select; for example, select 100 features\n",
    "n_features_to_select = 10  # Adjust based on your data and computational resources\n",
    "rfe = RFE(estimator=mt_lasso, n_features_to_select=n_features_to_select, step=0.1, verbose=1)\n",
    "\n",
    "# Create a pipeline with scaling, RFE, and MultiTaskLasso\n",
    "pipeline = Pipeline([\n",
    "    ('scaler', scaler),\n",
    "    ('rfe', rfe),\n",
    "    ('mt_lasso', mt_lasso)\n",
    "])\n",
    "\n",
    "# Fit the pipeline on the training data\n",
    "pipeline.fit(X_train, y_train)\n",
    "\n",
    "# Predict on the training set\n",
    "y_pred_train = pipeline.predict(X_train)\n",
    "\n",
    "# Predict on the test set\n",
    "y_pred_test = pipeline.predict(X_test)\n",
    "\n",
    "# Calculate variance explained (R^2 score) on the test set\n",
    "variance_explained_test = r2_score(y_test, y_pred_test, multioutput='raw_values')\n",
    "\n",
    "# Calculate variance explained on the training set\n",
    "variance_explained_train = r2_score(y_train, y_pred_train, multioutput='raw_values')\n",
    "\n",
    "# Print the results\n",
    "print(f\"Variance explained (R²) on the test set: {variance_explained_test}\")\n",
    "print(f\"Variance explained (R²) on the training set: {variance_explained_train}\")\n"
   ]
  },
  {
   "cell_type": "code",
   "execution_count": 7,
   "metadata": {},
   "outputs": [
    {
     "data": {
      "text/plain": [
       "<matplotlib.collections.PathCollection at 0x7bd76134d030>"
      ]
     },
     "execution_count": 7,
     "metadata": {},
     "output_type": "execute_result"
    },
    {
     "data": {
      "image/png": "[encoded data removed]",
      "text/plain": [
       "<Figure size 640x480 with 1 Axes>"
      ]
     },
     "metadata": {},
     "output_type": "display_data"
    }
   ],
   "source": [
    "variance_explained_train\n",
    "import matplotlib.pyplot as plt\n",
    "plt.scatter(variance_explained_test, variance_explained_train)"
   ]
  }
 ],
 "metadata": {
  "kernelspec": {
   "display_name": ".venv",
   "language": "python",
   "name": "python3"
  },
  "language_info": {
   "codemirror_mode": {
    "name": "ipython",
    "version": 3
   },
   "file_extension": ".py",
   "mimetype": "text/x-python",
   "name": "python",
   "nbconvert_exporter": "python",
   "pygments_lexer": "ipython3",
   "version": "3.10.15"
  }
 },
 "nbformat": 4,
 "nbformat_minor": 2
}
