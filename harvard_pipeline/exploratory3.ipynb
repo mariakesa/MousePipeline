{
 "cells": [
  {
   "cell_type": "code",
   "execution_count": 8,
   "metadata": {},
   "outputs": [
    {
     "name": "stdout",
     "output_type": "stream",
     "text": [
      "Fitting estimator with 768 features.\n",
      "Fitting estimator with 692 features.\n",
      "Fitting estimator with 616 features.\n",
      "Fitting estimator with 540 features.\n",
      "Fitting estimator with 464 features.\n",
      "Fitting estimator with 388 features.\n",
      "Fitting estimator with 312 features.\n",
      "Fitting estimator with 236 features.\n",
      "Fitting estimator with 160 features.\n",
      "Variance explained (R²) on the test set: [ 0.1053084   0.02630203 -0.09554627  0.07011421  0.02716549  0.22307067\n",
      "  0.15849595 -0.02776758 -0.00445503 -0.05025757  0.06333781 -0.04139319\n",
      " -0.02066562  0.0181314  -0.03170483  0.11442958  0.09359291 -0.01660744\n",
      " -0.03212686  0.02890599 -0.03469446 -0.05860333  0.08942164 -0.03689137\n",
      "  0.1981609  -0.01353071  0.09660473  0.07170362  0.20627978  0.07302149\n",
      "  0.04290068 -0.02106231  0.00721942  0.05903705  0.07395801  0.12400837\n",
      "  0.06128645  0.14553424 -0.08327528  0.13662371 -0.05462091  0.14308656\n",
      "  0.08598878  0.10954335 -0.02823104  0.2138636   0.01055396  0.01102618\n",
      "  0.10978421  0.0903362  -0.01567023 -0.03267591  0.09931573 -0.10142438\n",
      "  0.14636035 -0.11515981  0.12579455  0.2259203   0.15372617  0.01446832\n",
      "  0.07579089  0.19769632  0.00074553  0.049605  ]\n",
      "Variance explained (R²) on the training set: [0.37046264 0.38125367 0.13970563 0.2582879  0.24612361 0.42529623\n",
      " 0.36702796 0.24505937 0.18116772 0.17567899 0.39681973 0.18369289\n",
      " 0.13961905 0.24384059 0.2687026  0.33697036 0.29680191 0.18450045\n",
      " 0.16868203 0.19478611 0.16788162 0.22397433 0.35766884 0.16168006\n",
      " 0.40248956 0.17243541 0.27808523 0.23673927 0.3942617  0.22109839\n",
      " 0.23032073 0.14151326 0.18753642 0.25419357 0.31617816 0.3552949\n",
      " 0.26253581 0.39205149 0.10599055 0.38544705 0.2008778  0.35375547\n",
      " 0.29521789 0.38134065 0.16547115 0.42015476 0.15846041 0.21231586\n",
      " 0.3701075  0.36953991 0.2067044  0.20287362 0.45392459 0.15230594\n",
      " 0.43836487 0.2842843  0.38746561 0.33609779 0.44251796 0.1782786\n",
      " 0.25996449 0.38826436 0.13706168 0.14333822]\n"
     ]
    }
   ],
   "source": [
    "import pickle\n",
    "import numpy as np\n",
    "from sklearn.linear_model import MultiTaskLasso\n",
    "from sklearn.feature_selection import RFE\n",
    "from sklearn.model_selection import train_test_split\n",
    "from sklearn.metrics import r2_score\n",
    "from sklearn.preprocessing import StandardScaler\n",
    "from sklearn.pipeline import Pipeline\n",
    "\n",
    "# Load data\n",
    "dat = pickle.load(open('/home/maria/Documents/HarvardData/processed_sessions_v3/Bo220226/session_responses.p', 'rb'))\n",
    "dino = pickle.load(open('/home/maria/Documents/HarvardData/processed_sessions_v3/Bo220226/dinov2_features.p', 'rb'))\n",
    "dino_mid = pickle.load(open('/home/maria/Documents/HarvardData/processed_sessions_v3/Bo220226_middle_layers/dinov2_features.p', 'rb'))\n",
    "\n",
    "# Convert data to numpy arrays if they aren't already\n",
    "X = np.array(dino)\n",
    "y = np.array(dat)\n",
    "\n",
    "# Train-test split (80%-20%)\n",
    "X_train, X_test, y_train, y_test = train_test_split(\n",
    "    X, y, test_size=0.2, random_state=42\n",
    ")\n",
    "\n",
    "# Feature Scaling\n",
    "scaler = StandardScaler()\n",
    "\n",
    "# Initialize MultiTaskLasso regression\n",
    "mt_lasso = MultiTaskLasso(alpha=1, random_state=42)\n",
    "\n",
    "# Initialize RFE with MultiTaskLasso as the estimator\n",
    "# You can specify the number of features to select; for example, select 100 features\n",
    "n_features_to_select = 100  # Adjust based on your data and computational resources\n",
    "rfe = RFE(estimator=mt_lasso, n_features_to_select=n_features_to_select, step=0.1, verbose=1)\n",
    "\n",
    "# Create a pipeline with scaling, RFE, and MultiTaskLasso\n",
    "pipeline = Pipeline([\n",
    "    ('scaler', scaler),\n",
    "    ('rfe', rfe),\n",
    "    ('mt_lasso', mt_lasso)\n",
    "])\n",
    "\n",
    "# Fit the pipeline on the training data\n",
    "pipeline.fit(X_train, y_train)\n",
    "\n",
    "# Predict on the training set\n",
    "y_pred_train = pipeline.predict(X_train)\n",
    "\n",
    "# Predict on the test set\n",
    "y_pred_test = pipeline.predict(X_test)\n",
    "\n",
    "# Calculate variance explained (R^2 score) on the test set\n",
    "variance_explained_test = r2_score(y_test, y_pred_test, multioutput='raw_values')\n",
    "\n",
    "# Calculate variance explained on the training set\n",
    "variance_explained_train = r2_score(y_train, y_pred_train, multioutput='raw_values')\n",
    "\n",
    "# Print the results\n",
    "print(f\"Variance explained (R²) on the test set: {variance_explained_test}\")\n",
    "print(f\"Variance explained (R²) on the training set: {variance_explained_train}\")\n"
   ]
  },
  {
   "cell_type": "code",
   "execution_count": 9,
   "metadata": {},
   "outputs": [
    {
     "data": {
      "text/plain": [
       "<matplotlib.collections.PathCollection at 0x7bd75a92bf40>"
      ]
     },
     "execution_count": 9,
     "metadata": {},
     "output_type": "execute_result"
    },
    {
     "data": {
      "image/png": "[encoded data removed]",
      "text/plain": [
       "<Figure size 640x480 with 1 Axes>"
      ]
     },
     "metadata": {},
     "output_type": "display_data"
    }
   ],
   "source": [
    "variance_explained_train\n",
    "import matplotlib.pyplot as plt\n",
    "plt.scatter(variance_explained_test, variance_explained_train)"
   ]
  }
 ],
 "metadata": {
  "kernelspec": {
   "display_name": ".venv",
   "language": "python",
   "name": "python3"
  },
  "language_info": {
   "codemirror_mode": {
    "name": "ipython",
    "version": 3
   },
   "file_extension": ".py",
   "mimetype": "text/x-python",
   "name": "python",
   "nbconvert_exporter": "python",
   "pygments_lexer": "ipython3",
   "version": "3.10.15"
  }
 },
 "nbformat": 4,
 "nbformat_minor": 2
}
